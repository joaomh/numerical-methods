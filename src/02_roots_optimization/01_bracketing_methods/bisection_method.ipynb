{
 "cells": [
  {
   "cell_type": "markdown",
   "metadata": {},
   "source": [
    "# Bisection method\n",
    "The bisection method is a variation of the incremental search method in which the interval\n",
    "is always divided in half.\n",
    "\n",
    "$$x^{(0)} = \\frac{a+b}{2}$$\n",
    "\n",
    "![](https://upload.wikimedia.org/wikipedia/commons/thumb/8/8c/Bisection_method.svg/250px-Bisection_method.svg.png)"
   ]
  },
  {
   "cell_type": "markdown",
   "metadata": {},
   "source": [
    "The bisection method is a root-finding method that applies to any continuous functions for which one knows two values with opposite signs. The method consists of repeatedly bisecting the interval defined by these values and then selecting the subinterval in which the function changes sign, and therefore must contain a root. \n",
    "\n",
    "It is a very simple and robust method, but it is also relatively slow. Because of this, it is often used to obtain a rough approximation to a solution which is then used as a starting point for more rapidly converging methods. The method is also called the interval halving method, the binary search method, or the dichotomy method.\n",
    "\n",
    "The method may be written in pseudocode as follows:"
   ]
  },
  {
   "cell_type": "raw",
   "metadata": {},
   "source": [
    "INPUT: Function f, \n",
    "       endpoint values a, b, \n",
    "       tolerance TOL, \n",
    "       maximum iterations NMAX\n",
    "CONDITIONS: a < b, \n",
    "            either f(a) < 0 and f(b) > 0 or f(a) > 0 and f(b) < 0\n",
    "OUTPUT: value which differs from a root of f(x) = 0 by less than TOL\n",
    " \n",
    "N ← 1\n",
    "while N ≤ NMAX do // limit iterations to prevent infinite loop\n",
    "    c ← (a + b)/2 // new midpoint\n",
    "    if f(c) = 0 or (b – a)/2 < TOL then // solution found\n",
    "        Output(c)\n",
    "        Stop\n",
    "    end if\n",
    "    N ← N + 1 // increment step counter\n",
    "    if sign(f(c)) = sign(f(a)) then a ← c else b ← c // new interval\n",
    "end while\n",
    "Output(\"Method failed.\") // max number of steps exceeded\n"
   ]
  },
  {
   "cell_type": "markdown",
   "metadata": {},
   "source": [
    "## Error Estimates for  bisection method\n",
    "One way to do this is by estimating an approximate percent relative error as in:\n",
    "\n",
    "$$|\\epsilon_a| = |\\frac{x_r^{new} - x_r^{old}}{x_r^{new}}|$$"
   ]
  },
  {
   "cell_type": "markdown",
   "metadata": {},
   "source": [
    "Continue the example funciton $$f(m) = \\sqrt{\\frac{gm}{c_d}}\\tanh(\\sqrt{\\frac{gc_d}{m}}t) - v(t)$$ \n",
    "\n",
    "until the approximate error falls below a\n",
    "stopping criterion, let's say $|\\epsilon_a|=0.5\\%$\n",
    "\n",
    "We have this boundary conditions:\n",
    "\n",
    "\n",
    "$$c_dd = 0.25 \\\\ g = 9.81\\\\ v=36 /\\\\ t = 4 \\\\ m_p = [50,200]$$"
   ]
  },
  {
   "cell_type": "markdown",
   "metadata": {},
   "source": [
    "The initial estimate of the root x r lies at the midpoint of the interval.\n",
    "\n",
    "$$c = \\frac{50+200}{2} = 125$$\n",
    "Doing a secound time we have\n",
    "$$c = \\frac{125+200}{2} = 162.5 $$\n",
    "This means that the value of 125 calculated here has a  percent relative error of\n",
    "\n",
    "$$|\\epsilon_a| = |\\frac{162.5-125}{162.5}|\\times100\\%=23.04\\% $$"
   ]
  },
  {
   "cell_type": "markdown",
   "metadata": {},
   "source": [
    "|Interation|$a$|$b$|$c$|$|\\epsilon_a|$% |\n",
    "|---|---|---|---|---|\n",
    "|1|50|200|125|-----|\n",
    "|2|125|200|162.5|23.08|\n",
    "|3|125|162.5|143.75|13.04|\n",
    "|4|125|143.75|134.375|6.98|\n",
    "|5|134.375|139.0625|139.0625|3.37|\n",
    "|6|139.0625|141.4063|141.4063|1.66|\n",
    "|7|141.4063|142.5781|142.5781|0.82|\n",
    "|8|142.5781|143.1641|143.1641|0.41|"
   ]
  },
  {
   "cell_type": "code",
   "execution_count": 4,
   "metadata": {},
   "outputs": [],
   "source": [
    "import numpy as np\n",
    "import scipy as sc\n",
    "import matplotlib.pyplot as plt"
   ]
  },
  {
   "cell_type": "code",
   "execution_count": 37,
   "metadata": {},
   "outputs": [],
   "source": [
    "def bisection(f, a, b, tol, N):\n",
    "    \"\"\"\n",
    "    Find root of a function within an interval using bisection.\n",
    "    \n",
    "    Basic bisection routine to find a zero of the function `f` between the\n",
    "    arguments `a` and `b`. `f(a)` and `f(b)` cannot have the same signs.\n",
    "    \n",
    "    Parameters\n",
    "    ----------\n",
    "    Input:\n",
    "        f = name of function\n",
    "        a, b = lower and upper guesses\n",
    "        tol = desired relative error (epsilon)\n",
    "        N = maximum allowable interations\n",
    "        \n",
    "        \n",
    "    Returns\n",
    "    -------\n",
    "    root = real root\n",
    "    fx = value at root\n",
    "    interation = Number of interations\n",
    "    tol_ap = approxximate relative error\n",
    "        \n",
    "    \"\"\"\n",
    "    interation  = 0  \n",
    "    fa = f(a)  \n",
    "    while (interation  <= N):  \n",
    "        # Interation from the method \n",
    "        root = a + (b-a)/2  \n",
    "        fx = f(root)\n",
    "        # Stop criteria  \n",
    "        if ((fx == 0) or ((b-a)/2 < tol)):  \n",
    "            tol_ap = (b-a)/2\n",
    "            return root, fx, interation, tol_ap  \n",
    "        # Update the interval [a,b]  \n",
    "        interation  += 1\n",
    "        if (fa * fx > 0):  \n",
    "            a = root  \n",
    "            fa = fx  \n",
    "        else:  \n",
    "            b = root  \n",
    "    raise NameError(\"Number max of interetions exceeded\")"
   ]
  },
  {
   "cell_type": "code",
   "execution_count": 38,
   "metadata": {},
   "outputs": [
    {
     "name": "stdout",
     "output_type": "stream",
     "text": [
      "The root is: 3.74609375\n",
      "The value of f is: 0.004402226346195165\n",
      "The number of interations is: 7\n",
      "The approxximate relative error: 0.00390625\n"
     ]
    }
   ],
   "source": [
    "f = lambda x: np.sin(10*x) + np.cos(3*x)\n",
    "a = 3\n",
    "b = 4\n",
    "root, fx, interation, tol_ap  = bisection(f, a, b, tol=0.5e-2, N=50)\n",
    "print(\"The root is: \"+ str(root))\n",
    "print(\"The value of f is: \"+ str(fx))\n",
    "print(\"The number of interations is: \"+ str(interation))\n",
    "print(\"The approxximate relative error: \"+ str(tol_ap))\n"
   ]
  },
  {
   "cell_type": "markdown",
   "metadata": {},
   "source": [
    "The method is guaranteed to converge to a root of $f(x)$ if $f(x)$ is a continuous function on the interval $[a, b]$ and $(a)$ and $f(b)$ have opposite signs. The absolute error is halved at each step so the method converges linearly, which is comparatively slow. \n",
    "\n",
    "The number of iterations needed, $n$, to achieve a given error (or tolerance), $\\epsilon$, is given by:\n",
    "$$ n=\\log _{2}\\left({\\frac {\\epsilon _{0}}{\\epsilon }}\\right)={\\frac {\\log \\epsilon _{0}-\\log \\epsilon }{\\log 2}}, $$"
   ]
  }
 ],
 "metadata": {
  "kernelspec": {
   "display_name": "Python 3",
   "language": "python",
   "name": "python3"
  },
  "language_info": {
   "codemirror_mode": {
    "name": "ipython",
    "version": 3
   },
   "file_extension": ".py",
   "mimetype": "text/x-python",
   "name": "python",
   "nbconvert_exporter": "python",
   "pygments_lexer": "ipython3",
   "version": "3.8.3"
  }
 },
 "nbformat": 4,
 "nbformat_minor": 4
}
