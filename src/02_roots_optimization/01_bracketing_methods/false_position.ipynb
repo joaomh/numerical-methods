{
 "cells": [
  {
   "cell_type": "markdown",
   "metadata": {},
   "source": [
    "# Regula falsi\n",
    "False position (also called the linear interpolation method) is another well-known bracketing method. It is very similar to bisection with the exception that it uses a different strategy\n",
    "to come up with its new root estimate.\n",
    "\n",
    "In simple terms, the method is the trial and error technique of using test (\"false\") values for the variable and then adjusting the test value according to the outcome. This is sometimes also referred to as \"guess and check\".\n",
    "\n",
    "Using similar triangles, the intersection of the straight line\n",
    "with the x axis can be estimated"
   ]
  },
  {
   "cell_type": "markdown",
   "metadata": {},
   "source": [
    "The first two iterations of the false position method. The red curve shows the function f and the blue lines are the secants.\n",
    "\n",
    "![](assets/false.png)"
   ]
  },
  {
   "cell_type": "markdown",
   "metadata": {},
   "source": [
    "$$x_r =x_u - \\frac{f(x_u)}{f(x_l)-f(x_u)}(x_l-x_u) $$"
   ]
  },
  {
   "cell_type": "markdown",
   "metadata": {},
   "source": [
    "## The Effect of Non-linear Functions\n",
    "If we cannot assume that a function may be interpolated by a linear function, then applying the false-position method can result in worse results than the bisection method. \n",
    "For example, the image above shows a function where the false-position method is significantly slower than the bisection method.\n",
    "\n",
    "![](assets/false_conv.png)\n",
    "\n",
    "The method may be written in pseudocode as follows:"
   ]
  },
  {
   "cell_type": "raw",
   "metadata": {},
   "source": [
    "INPUT: Function f,\n",
    "       endpoint values a, b\n",
    "       tolerance TOL,\n",
    "       maximum iterations NMAX\n",
    "\n",
    "STEP 1 Set i = 1\n",
    "                     FA = f(a).\n",
    "\n",
    "STEP 2 While i ≤ N do Steps 3-6.\n",
    "\n",
    "        STEP 3 Set p = (a*f(b) − b*f(a))/(f(b) − f(a))\n",
    "                               FP = f(p)\n",
    "\n",
    "        STEP 4 If FP = 0 or |f(p)| < TOL  then\n",
    "                         STOP\n",
    "                     else OUTPUT(P)\n",
    "                 \n",
    "        STEP 5 Set i = i + 1\n",
    "\n",
    "       STEP 6 If FA×FP>0 then set a = p;\n",
    "                          FA = FP\n",
    "                     else set b = p.\n",
    "\n",
    "STEP 7 OUTPUT(\"Number max of interetions exceeded\")"
   ]
  },
  {
   "cell_type": "markdown",
   "metadata": {},
   "source": [
    "### A Case Where Bisection Is Preferable to False Position\n",
    "Using the two methods to find the root of $f(x) = x^{10} - 1$, between $[0, 1.3]$"
   ]
  },
  {
   "cell_type": "markdown",
   "metadata": {},
   "source": [
    "### Bisection\n",
    "|Interation|$a$|$b$|$x_r$|$|\\epsilon_a|$% |\n",
    "|---|---|---|---|---|\n",
    "|1|0|1.3|0.65|100|\n",
    "|2|0.65|1.3|0.975|33.3|\n",
    "|3|0.975|1.3|1.1375|14.3|\n",
    "|4|0.975|1.1375|1.05625|7.7|\n",
    "|5|0.975|1.05625|1.015626|4|\n"
   ]
  },
  {
   "cell_type": "markdown",
   "metadata": {},
   "source": [
    "### False Position\n",
    "|Interation|$a$|$b$|$x_r$|$|\\epsilon_a|$% |\n",
    "|---|---|---|---|---|\n",
    "|1|0|1.3|0.0943|----|\n",
    "|2|0.0943|1.3|0.918176|48.1|\n",
    "|3|0.18176|1.3|0.26287|30.9|\n",
    "|4|0.26287|1.3|0.33811|22.3|\n",
    "|5|0.33811|1.3|0.40788|17.1|"
   ]
  },
  {
   "cell_type": "markdown",
   "metadata": {},
   "source": [
    "The foregoing example illustrates that blanket generalizations regarding root location methods are usually not possible. \n",
    "\n",
    "Although a method such as false position is\n",
    "often superior to bisection, there are invariably cases that violate this general conclusion."
   ]
  },
  {
   "cell_type": "code",
   "execution_count": 1,
   "metadata": {},
   "outputs": [],
   "source": [
    "import numpy as np\n",
    "import scipy as sc\n",
    "import matplotlib.pyplot as plt"
   ]
  },
  {
   "cell_type": "code",
   "execution_count": 2,
   "metadata": {},
   "outputs": [],
   "source": [
    "def false_position(f, a, b, tol, N):\n",
    "    \"\"\"\n",
    "    Find root of a function within an interval using false position.\n",
    "    \n",
    "    Basic false position routine to find a zero of the function `f` between the\n",
    "    arguments `a` and `b`. `f(a)` and `f(b)` cannot have the same signs.\n",
    "    \n",
    "    Parameters\n",
    "    ----------\n",
    "    Input:\n",
    "        f = name of function\n",
    "        a, b = lower and upper guesses\n",
    "        tol = desired relative error (epsilon)\n",
    "        N = maximum allowable interations\n",
    "        \n",
    "        \n",
    "    Returns\n",
    "    -------\n",
    "    root = real root\n",
    "    fx = value at root\n",
    "    interation = Number of interations\n",
    "        \n",
    "    \"\"\"\n",
    "    if f(a)*f(b) >= 0: \n",
    "        print(\"You have not assumed right a and b\") \n",
    "        return -1\n",
    "      \n",
    "    root = a #\n",
    "    interation = 0\n",
    "    for i in range(N): \n",
    "        interation += 1\n",
    "        \n",
    "        root = (a*f(b) - b*f(a))/ (f(b) - f(a)) \n",
    "          \n",
    "        if ((f(root) == 0) or (np.abs(f(root)) < tol)):  \n",
    "            fx = f(root)\n",
    "            return root, fx, interation   \n",
    "        \n",
    "        elif f(root)*f(a)< 0: \n",
    "            b = root\n",
    "        else: \n",
    "            a = root\n",
    "        \n",
    "    raise NameError(\"Number max of interetions exceeded\")"
   ]
  },
  {
   "cell_type": "code",
   "execution_count": 3,
   "metadata": {},
   "outputs": [
    {
     "name": "stdout",
     "output_type": "stream",
     "text": [
      "The root is: 3.7457450869720232\n",
      "The value of f is: -5.333011809938171e-12\n",
      "The number of interations is: 8\n"
     ]
    }
   ],
   "source": [
    "f = lambda x: np.sin(10*x) + np.cos(3*x)\n",
    "a = 3\n",
    "b = 4\n",
    "root,fx, interation = false_position(f, a, b, tol=1e-10, N=50)\n",
    "\n",
    "print(\"The root is: \"+ str(root))\n",
    "print(\"The value of f is: \"+ str(fx))\n",
    "print(\"The number of interations is: \"+ str(interation))"
   ]
  }
 ],
 "metadata": {
  "kernelspec": {
   "display_name": "Python 3",
   "language": "python",
   "name": "python3"
  },
  "language_info": {
   "codemirror_mode": {
    "name": "ipython",
    "version": 3
   },
   "file_extension": ".py",
   "mimetype": "text/x-python",
   "name": "python",
   "nbconvert_exporter": "python",
   "pygments_lexer": "ipython3",
   "version": "3.8.3"
  }
 },
 "nbformat": 4,
 "nbformat_minor": 4
}
