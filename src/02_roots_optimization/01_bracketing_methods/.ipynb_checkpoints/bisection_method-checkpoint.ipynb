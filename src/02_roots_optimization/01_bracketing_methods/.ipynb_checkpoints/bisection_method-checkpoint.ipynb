{
 "cells": [
  {
   "cell_type": "markdown",
   "metadata": {},
   "source": [
    "# Bisection method\n",
    "The bisection method is a variation of the incremental search method in which the interval\n",
    "is always divided in half.\n",
    "\n",
    "$$x^{(0)} = \\frac{a+b}{2}$$\n",
    "\n",
    "![](https://upload.wikimedia.org/wikipedia/commons/thumb/8/8c/Bisection_method.svg/250px-Bisection_method.svg.png)"
   ]
  },
  {
   "cell_type": "markdown",
   "metadata": {},
   "source": [
    "The bisection method is a root-finding method that applies to any continuous functions for which one knows two values with opposite signs. The method consists of repeatedly bisecting the interval defined by these values and then selecting the subinterval in which the function changes sign, and therefore must contain a root. \n",
    "\n",
    "It is a very simple and robust method, but it is also relatively slow. Because of this, it is often used to obtain a rough approximation to a solution which is then used as a starting point for more rapidly converging methods. The method is also called the interval halving method, the binary search method, or the dichotomy method.\n",
    "\n",
    "The method may be written in pseudocode as follows:"
   ]
  },
  {
   "cell_type": "raw",
   "metadata": {},
   "source": [
    "INPUT: Function f, \n",
    "       endpoint values a, b, \n",
    "       tolerance TOL, \n",
    "       maximum iterations NMAX\n",
    "CONDITIONS: a < b, \n",
    "            either f(a) < 0 and f(b) > 0 or f(a) > 0 and f(b) < 0\n",
    "OUTPUT: value which differs from a root of f(x) = 0 by less than TOL\n",
    " \n",
    "N ← 1\n",
    "while N ≤ NMAX do // limit iterations to prevent infinite loop\n",
    "    c ← (a + b)/2 // new midpoint\n",
    "    if f(c) = 0 or (b – a)/2 < TOL then // solution found\n",
    "        Output(c)\n",
    "        Stop\n",
    "    end if\n",
    "    N ← N + 1 // increment step counter\n",
    "    if sign(f(c)) = sign(f(a)) then a ← c else b ← c // new interval\n",
    "end while\n",
    "Output(\"Method failed.\") // max number of steps exceeded\n"
   ]
  },
  {
   "cell_type": "code",
   "execution_count": 2,
   "metadata": {},
   "outputs": [],
   "source": [
    "def bisection(f, a, b, tol, N):  \n",
    "    i = 1  \n",
    "    fa = f(a)  \n",
    "    while (i <= N):  \n",
    "        # Interation from the method \n",
    "        p = a + (b-a)/2  \n",
    "        fp = f(p)  \n",
    "        # Stop criteria  \n",
    "        if ((fp == 0) or ((b-a)/2 < TOL)):  \n",
    "            return p  \n",
    "        #bissecta o intervalo  \n",
    "        i = i+1  \n",
    "        if (fa * fp > 0):  \n",
    "            a = p  \n",
    "            fa = fp  \n",
    "        else:  \n",
    "            b = p  \n",
    " "
   ]
  }
 ],
 "metadata": {
  "kernelspec": {
   "display_name": "Python 3",
   "language": "python",
   "name": "python3"
  },
  "language_info": {
   "codemirror_mode": {
    "name": "ipython",
    "version": 3
   },
   "file_extension": ".py",
   "mimetype": "text/x-python",
   "name": "python",
   "nbconvert_exporter": "python",
   "pygments_lexer": "ipython3",
   "version": "3.8.3"
  }
 },
 "nbformat": 4,
 "nbformat_minor": 4
}
