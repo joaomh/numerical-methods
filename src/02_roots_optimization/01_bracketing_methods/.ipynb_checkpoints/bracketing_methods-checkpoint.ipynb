{
 "cells": [
  {
   "cell_type": "markdown",
   "metadata": {},
   "source": [
    "# Roots: Bracketing Methods\n",
    "Bracketing methods determine successively smaller intervals (brackets) that contain a root. When the interval is small enough, then a root has been found. They generally use the intermediate value theorem, which asserts that if a continuous function has values of opposite signs at the end points of an interval, then the function has at least one root in the interval. \n",
    "\n",
    "Therefore, they require to start with an interval such that the function takes opposite signs at the end points of the interval. However, in the case of polynomials there are other methods for getting information on the number of roots in an interval.\n",
    "\n",
    "They lead to efficient algorithms for real-root isolation of polynomials, which ensure finding all real roots with a guaranteed accuracy. "
   ]
  },
  {
   "cell_type": "markdown",
   "metadata": {},
   "source": [
    "## GRAPHICAL METHODS\n",
    "A simple method for obtaining an estimate of the root of the equation $f (x) = 0$ is to make\n",
    "a plot of the function and observe where it crosses the x axis."
   ]
  },
  {
   "cell_type": "markdown",
   "metadata": {},
   "source": [
    "Given this function\n",
    "\n",
    "$$f(m) = \\sqrt{\\frac{gm}{c_d}}\\tanh(\\sqrt{\\frac{gc_d}{m}}t) - v(t)$$\n",
    "\n",
    "We need to find the value of mass due some conditions"
   ]
  },
  {
   "cell_type": "code",
   "execution_count": 1,
   "metadata": {},
   "outputs": [],
   "source": [
    "import numpy as np\n",
    "import scipy as sc\n",
    "import matplotlib.pyplot as plt"
   ]
  },
  {
   "cell_type": "code",
   "execution_count": 2,
   "metadata": {},
   "outputs": [
    {
     "data": {
      "image/png": "[encoded data removed]",
      "text/plain": [
       "<Figure size 432x288 with 1 Axes>"
      ]
     },
     "metadata": {
      "needs_background": "light"
     },
     "output_type": "display_data"
    }
   ],
   "source": [
    "# initial conditions\n",
    "cd = 0.25\n",
    "g = 9.81\n",
    "v = 30\n",
    "t = 5\n",
    "x = np.linspace(20,50,100)\n",
    "y = np.sqrt(g*x/cd)*np.tanh(np.sqrt(g*cd/x)*t) - v\n",
    "\n",
    "# Plot\n",
    "plt.plot(x,y)\n",
    "plt.grid(color='k', linestyle='--', linewidth=1)"
   ]
  },
  {
   "cell_type": "markdown",
   "metadata": {},
   "source": [
    "The function crosses the m axis between 25 and 30 kg. Visual inspection of the plot\n",
    "provides a rough estimate of the root of 28 kg. Assuming that the mass is 28kg, let's see the value of velocity"
   ]
  },
  {
   "cell_type": "code",
   "execution_count": 20,
   "metadata": {},
   "outputs": [
    {
     "data": {
      "text/plain": [
       "29.87950872019534"
      ]
     },
     "execution_count": 20,
     "metadata": {},
     "output_type": "execute_result"
    }
   ],
   "source": [
    "mass = 28\n",
    "v_est = np.sqrt(g*mass/cd)*np.tanh(np.sqrt(g*cd/mass)*t)\n",
    "v_est"
   ]
  },
  {
   "cell_type": "markdown",
   "metadata": {},
   "source": [
    "29.8795 is not 30, right? But it's fine, for now.\n",
    "\n",
    "Graphical techniques are of limited practical value because they are not very precise.\n",
    "However, graphical methods can be utilized to obtain rough estimates of roots. These esti-\n",
    "mates can be employed as starting guesses for numerical methods"
   ]
  },
  {
   "cell_type": "markdown",
   "metadata": {},
   "source": [
    "## BRACKETING METHODS AND INITIAL GUESSES\n",
    "If you had a roots problem in the days before computing, you’d often be told to use “trial and\n",
    "error” to come up with the root.\n",
    "\n",
    "But, for many other problems, it is preferable to have methods that come up with the\n",
    "correct answer automatically. Interestingly, as with trial and error, these approaches require\n",
    "an initial “guess” to get started"
   ]
  },
  {
   "cell_type": "markdown",
   "metadata": {},
   "source": [
    "### Incremental Search\n",
    "Using the Bolzano theorm, if $f:[a,b]\\to \\Re$$ ,y = f(x)$ and continuous in the interval\n",
    "from $a$ to $b$ and $f(a)$ and $f(b)$ have opposite signs, that is $f(a).f(b) < 0$ then there is at least one real root betwen $[a,b]$\n",
    "\n",
    "Incremental search methods capitalize on this observation by locating an interval\n",
    "where the function changes sign\n",
    "\n",
    "A problem with an incremental search is the\n",
    "choice of the increment length. If the length is too small, the search can be very time\n",
    "consuming. On the other hand, if the length is too great, there is a possibility that closely\n",
    "spaced roots might be missed (Fig. 5.3). The problem is compounded by the possible exis-\n",
    "tence of multiple roots"
   ]
  },
  {
   "cell_type": "markdown",
   "metadata": {},
   "source": [
    "Identify brackets within the interval $[3,6]$ for the funciton $f(x) = sin(10x) + cos(3x)$"
   ]
  },
  {
   "cell_type": "code",
   "execution_count": 34,
   "metadata": {},
   "outputs": [
    {
     "name": "stdout",
     "output_type": "stream",
     "text": [
      "The number os brackets is: 5\n",
      "The solutions are: \n"
     ]
    },
    {
     "data": {
      "text/plain": [
       "array([[3.24489796, 3.30612245],\n",
       "       [3.30612245, 3.36734694],\n",
       "       [3.73469388, 3.79591837],\n",
       "       [4.65306122, 4.71428571],\n",
       "       [5.63265306, 5.69387755]])"
      ]
     },
     "execution_count": 34,
     "metadata": {},
     "output_type": "execute_result"
    }
   ],
   "source": [
    "def incremental_search(func, x_min, x_max, ns):\n",
    "    \"\"\"\n",
    "     incsearch: incremental search root locator\n",
    "        xb = incsearch(func,xmin,xmax,ns):\n",
    "        finds brackets of x that contain sign changes of a function on an interval\n",
    "     input:\n",
    "         func = name of function\n",
    "         xmin, xmax = endpoints of interval\n",
    "         ns = number of subintervals \n",
    "     output:\n",
    "         xb(k,1) is the lower bound of the kth sign change\n",
    "         xb(k,2) is the upper bound of the kth sign change\n",
    "\n",
    "    If no brackets found, xb = [].\n",
    "    if nargin < 3, error('at least 3 arguments required'), end\n",
    "    if nargin < 4, ns = 50; end %if ns blank set to 50\n",
    "    \"\"\"\n",
    "    # incremental search\n",
    "    x = np.linspace(x_min,x_max,ns)\n",
    "    f = func(x)\n",
    "    nb = 0\n",
    "    xb = np.zeros((x.size,2))\n",
    "    for i in range(0,len(x)-1):\n",
    "        if f[i]*f[i+1] < 0:\n",
    "            nb += 1\n",
    "            xb[nb][0] = x[i]\n",
    "            xb[nb][1] = x[i+1]\n",
    "            \n",
    "    if not xb.any():\n",
    "        print(\"No brackets found\")\n",
    "        print(\"Check interval or increase number of intervals\")\n",
    "    else:\n",
    "        print(\"The number os brackets is: \" + str(nb))\n",
    "        print(\"The solutions are: \")\n",
    "    return xb[1:nb+1]\n",
    "\n",
    "# Test our function\n",
    "incremental_search(lambda x: np.sin(10*x)+np.cos(3*x),3,6,50)"
   ]
  },
  {
   "cell_type": "code",
   "execution_count": 33,
   "metadata": {},
   "outputs": [
    {
     "data": {
      "image/png": "[encoded data removed]",
      "text/plain": [
       "<Figure size 432x288 with 1 Axes>"
      ]
     },
     "metadata": {
      "needs_background": "light"
     },
     "output_type": "display_data"
    }
   ],
   "source": [
    "# Plot and verify these roots\n",
    "x = np.linspace(3,6,100)\n",
    "y = np.sin(10*x)+np.cos(3*x)\n",
    "plt.plot(x,y)\n",
    "plt.grid\n",
    "plt.axhline(y=0, color='r', linestyle='--')\n",
    "plt.grid(color='k', linestyle='--', linewidth=1)"
   ]
  },
  {
   "cell_type": "markdown",
   "metadata": {},
   "source": [
    "The incremental search works fine, but could be missed some multiple roots.\n",
    "Just change the value of 'ns' in the code above, for example ns=100, and see what the solution."
   ]
  },
  {
   "cell_type": "code",
   "execution_count": 42,
   "metadata": {},
   "outputs": [],
   "source": [
    "def incremental_search_one(f, a, b, dx):\n",
    "    \"\"\"\n",
    "    Input:\n",
    "        f: The function to solve\n",
    "        a: The left boundary x-axis value\n",
    "        b: The right boundary x-axis value\n",
    "        dx: The incremental value in searching\n",
    "    Output:\n",
    "        roots: The x-axis value of the root,\n",
    "        interations: Number of iterations used\n",
    "    \"\"\"\n",
    "    fa = f(a)\n",
    "    c = a + dx\n",
    "    fc = f(c)\n",
    "    n = 1\n",
    "    while np.sign(fa) == np.sign(fc):\n",
    "        if a >= b:\n",
    "            return a - dx, n\n",
    "        a = c\n",
    "        fa = fc\n",
    "        c = a + dx\n",
    "        fc = f(c)\n",
    "        n += 1\n",
    "    if fa == 0:\n",
    "        return a, n\n",
    "    elif fc == 0:\n",
    "        return c, n\n",
    "    else:\n",
    "        return (a + c)/2., n"
   ]
  },
  {
   "cell_type": "code",
   "execution_count": 41,
   "metadata": {},
   "outputs": [
    {
     "name": "stdout",
     "output_type": "stream",
     "text": [
      "Root is: 3.2700000000000005\n",
      "Iterations: 14\n"
     ]
    }
   ],
   "source": [
    "\n",
    "y = lambda x: np.sin(10*x) + np.cos(3*x)\n",
    "root, iterations = incremental_search_one(y, 3, 6, 1/50)\n",
    "print(\"Root is: \" + str(root))\n",
    "print(\"Iterations: \"+ str(iterations))"
   ]
  },
  {
   "cell_type": "markdown",
   "metadata": {},
   "source": [
    "In this method we have missed some roots."
   ]
  }
 ],
 "metadata": {
  "kernelspec": {
   "display_name": "Python 3",
   "language": "python",
   "name": "python3"
  },
  "language_info": {
   "codemirror_mode": {
    "name": "ipython",
    "version": 3
   },
   "file_extension": ".py",
   "mimetype": "text/x-python",
   "name": "python",
   "nbconvert_exporter": "python",
   "pygments_lexer": "ipython3",
   "version": "3.8.3"
  }
 },
 "nbformat": 4,
 "nbformat_minor": 4
}
