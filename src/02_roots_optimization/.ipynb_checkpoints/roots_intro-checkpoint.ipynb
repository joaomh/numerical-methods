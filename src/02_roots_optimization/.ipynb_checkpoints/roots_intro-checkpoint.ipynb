{
 "cells": [
  {
   "cell_type": "markdown",
   "metadata": {},
   "source": [
    "# Roots\n",
    "Once upon a time you learned this formula \n",
    "\n",
    "$$x=\\frac{-b\\pm\\sqrt{b^2 -4ac}}{2a} $$\n",
    "\n",
    "to solve $ ax^2+bx+c=0$\n",
    "\n",
    "The values calculeted are called \"roots\" and they represent the alues of $x$ that make the equation equal to zero. \n",
    "\n",
    "Solving an equation f(x) = g(x) is the same as finding the roots of the function h(x) = f(x) – g(x). Thus root-finding algorithms allow solving any equation defined by continuous functions. However, most root-finding algorithms do not guarantee that they will find all the roots; in particular, if such an algorithm does not find any root, that does not mean that no root exists.\n",
    "\n",
    "Most numerical root-finding methods use iteration, producing a sequence of numbers that hopefully converge towards the root as a limit. They require one or more initial guesses of the root as starting values, then each iteration of the algorithm produces a successively more accurate approximation to the root. Since the iteration must be stopped at some point these methods produce an approximation to the root, not an exact solution. Many methods compute subsequent values by evaluating an auxiliary function on the preceding values. The limit is thus a fixed point of the auxiliary function, which is chosen for having the roots of the original equation as fixed points, and for converging rapidly to these fixed points.\n",
    "\n",
    "The behaviour of general root-finding algorithms is studied in numerical analysis. However, for polynomials, root-finding study belongs generally to computer algebra, since algebraic properties of polynomials are fundamental for the most efficient algorithms. The efficiency of an algorithm may depend dramatically on the characteristics of the given functions. For example, many algorithms use the derivative of the input function, while others work on every continuous function. In general, numerical algorithms are not guaranteed to find all the roots of a function, so failing to find a root does not prove that there is no root. However, for polynomials, there are specific algorithms that use algebraic properties for certifying that no root is missed, and locating the roots in separate intervals (or disks for complex roots) that are small enough to ensure the convergence of numerical methods (typically Newton's method) to the unique root so located. "
   ]
  },
  {
   "cell_type": "markdown",
   "metadata": {},
   "source": [
    "# Optimization\n",
    "Besides roots, another feature of interest to engineers and scientists are a function’s\n",
    "minimum and maximum values. The determination of such optimal values is referred to\n",
    "as optimization.\n",
    "\n",
    "As you learned in calculus, such solutions can be obtained analytically\n",
    "by determining the value at which the function is flat; that is, where its derivative is zero.\n",
    "Although such analytical solutions are sometimes feasible, most practical optimization prob-\n",
    "lems require numerical, computer solutions. From a numerical standpoint, such optimization\n",
    "methods are similar in spirit to the root-location methods we just discussed\n",
    "\n",
    "Optimization problems of sorts arise in all quantitative disciplines from computer science and engineering to operations research and economics, and the development of solution methods has been of interest in mathematics for centuries."
   ]
  }
 ],
 "metadata": {
  "kernelspec": {
   "display_name": "Python 3",
   "language": "python",
   "name": "python3"
  },
  "language_info": {
   "codemirror_mode": {
    "name": "ipython",
    "version": 3
   },
   "file_extension": ".py",
   "mimetype": "text/x-python",
   "name": "python",
   "nbconvert_exporter": "python",
   "pygments_lexer": "ipython3",
   "version": "3.8.2"
  }
 },
 "nbformat": 4,
 "nbformat_minor": 4
}
