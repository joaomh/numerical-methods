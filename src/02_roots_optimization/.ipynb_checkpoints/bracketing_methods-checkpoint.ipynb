{
 "cells": [
  {
   "cell_type": "markdown",
   "metadata": {},
   "source": [
    "# Roots: Bracketing Methods\n",
    "Bracketing methods determine successively smaller intervals (brackets) that contain a root. When the interval is small enough, then a root has been found. They generally use the intermediate value theorem, which asserts that if a continuous function has values of opposite signs at the end points of an interval, then the function has at least one root in the interval. \n",
    "\n",
    "Therefore, they require to start with an interval such that the function takes opposite signs at the end points of the interval. However, in the case of polynomials there are other methods for getting information on the number of roots in an interval.\n",
    "\n",
    "They lead to efficient algorithms for real-root isolation of polynomials, which ensure finding all real roots with a guaranteed accuracy. "
   ]
  },
  {
   "cell_type": "markdown",
   "metadata": {},
   "source": [
    "## GRAPHICAL METHODS\n",
    "A simple method for obtaining an estimate of the root of the equation $f (x) = 0$ is to make\n",
    "a plot of the function and observe where it crosses the x axis."
   ]
  },
  {
   "cell_type": "markdown",
   "metadata": {},
   "source": [
    "Given this function\n",
    "\n",
    "$$f(m) = \\sqrt{\\frac{gm}{c_d}}\\tanh(\\sqrt{\\frac{gc_d}{m}}t) - v(t)$$\n",
    "\n",
    "We need to find the value of mass due some conditions"
   ]
  },
  {
   "cell_type": "code",
   "execution_count": 2,
   "metadata": {},
   "outputs": [],
   "source": [
    "import numpy as np\n",
    "import scipy as sc\n",
    "import matplotlib.pyplot as plt"
   ]
  },
  {
   "cell_type": "code",
   "execution_count": 18,
   "metadata": {},
   "outputs": [
    {
     "data": {
      "image/png": "[encoded data removed]",
      "text/plain": [
       "<Figure size 432x288 with 1 Axes>"
      ]
     },
     "metadata": {
      "needs_background": "light"
     },
     "output_type": "display_data"
    }
   ],
   "source": [
    "# initial conditions\n",
    "cd = 0.25\n",
    "g = 9.81\n",
    "v = 30\n",
    "t = 5\n",
    "x = np.linspace(20,50,100)\n",
    "y = np.sqrt(g*x/cd)*np.tanh(np.sqrt(g*cd/x)*t) - v\n",
    "\n",
    "# Plot\n",
    "plt.plot(x,y)\n",
    "plt.grid(color='k', linestyle='--', linewidth=1)"
   ]
  },
  {
   "cell_type": "markdown",
   "metadata": {},
   "source": [
    "The function crosses the m axis between 25 and 30 kg. Visual inspection of the plot\n",
    "provides a rough estimate of the root of 28 kg. Assuming that the mass is 28kg, let's see the value of velocity"
   ]
  },
  {
   "cell_type": "code",
   "execution_count": 20,
   "metadata": {},
   "outputs": [
    {
     "data": {
      "text/plain": [
       "29.87950872019534"
      ]
     },
     "execution_count": 20,
     "metadata": {},
     "output_type": "execute_result"
    }
   ],
   "source": [
    "mass = 28\n",
    "v_est = np.sqrt(g*mass/cd)*np.tanh(np.sqrt(g*cd/mass)*t)\n",
    "v_est"
   ]
  },
  {
   "cell_type": "markdown",
   "metadata": {},
   "source": [
    "29.8795 is not 30, right? But it's fine, for now.\n",
    "\n",
    "Graphical techniques are of limited practical value because they are not very precise.\n",
    "However, graphical methods can be utilized to obtain rough estimates of roots. These esti-\n",
    "mates can be employed as starting guesses for numerical methods"
   ]
  },
  {
   "cell_type": "markdown",
   "metadata": {},
   "source": [
    "## BRACKETING METHODS AND INITIAL GUESSES\n",
    "If you had a roots problem in the days before computing, you’d often be told to use “trial and\n",
    "error” to come up with the root.\n",
    "\n",
    "But, for many other problems, it is preferable to have methods that come up with the\n",
    "correct answer automatically. Interestingly, as with trial and error, these approaches require\n",
    "an initial “guess” to get started"
   ]
  },
  {
   "cell_type": "markdown",
   "metadata": {},
   "source": [
    "### Incremental Search\n",
    "Using the Bolzano theorm, if $f:[a,b]\\to \\Re$$ ,y = f(x)$ and continuous in the interval\n",
    "from $a$ to $b$ and $f(a)$ and $f(b)$ have opposite signs, that is $f(a).f(b) < 0$ then there is at least one real root betwen $[a,b]$\n",
    "\n",
    "Incremental search methods capitalize on this observation by locating an interval\n",
    "where the function changes sign\n",
    "\n",
    "A problem with an incremental search is the\n",
    "choice of the increment length. If the length is too small, the search can be very time\n",
    "consuming. On the other hand, if the length is too great, there is a possibility that closely\n",
    "spaced roots might be missed (Fig. 5.3). The problem is compounded by the possible exis-\n",
    "tence of multiple roots"
   ]
  },
  {
   "cell_type": "markdown",
   "metadata": {},
   "source": [
    "Identify brackets within the interval $[3,6]$ for the funciton $f(x) = sin(10x) + cos(3x)$"
   ]
  },
  {
   "cell_type": "code",
   "execution_count": 72,
   "metadata": {},
   "outputs": [],
   "source": [
    "def inc_search(func, x_min, x_max, ns):\n",
    "    \"\"\"\n",
    "     incsearch: incremental search root locator\n",
    "        xb = incsearch(func,xmin,xmax,ns):\n",
    "        finds brackets of x that contain sign changes of a function on an interval\n",
    "     input:\n",
    "         func = name of function\n",
    "         xmin, xmax = endpoints of interval\n",
    "         ns = number of subintervals \n",
    "     output:\n",
    "         xb(k,1) is the lower bound of the kth sign change\n",
    "         xb(k,2) is the upper bound of the kth sign change\n",
    "\n",
    "    If no brackets found, xb = [].\n",
    "    if nargin < 3, error('at least 3 arguments required'), end\n",
    "    if nargin < 4, ns = 50; end %if ns blank set to 50\n",
    "    \"\"\"\n",
    "    # incremental search\n",
    "    x = np.linspace(x_min,x_max,ns)\n",
    "    f = func(x)\n",
    "    nb = 0\n",
    "    xb = []\n",
    "    for i in range(0,len(x)-1):\n",
    "        if np.sign(f[i]) is not np.sign(f[i+1]):\n",
    "            nb += 1\n",
    "            xb[i,1] = x[i]\n",
    "            xb[i,2] = x[i+1]\n",
    "    if not xb:\n",
    "        print(\"No brackets found\")\n",
    "        print(\"Check interval or increase number of intervals\")\n",
    "    else:\n",
    "        print(\"The number os brackets is: \" + str(nb))\n",
    "    return xb"
   ]
  },
  {
   "cell_type": "code",
   "execution_count": 73,
   "metadata": {},
   "outputs": [
    {
     "ename": "TypeError",
     "evalue": "list indices must be integers or slices, not tuple",
     "output_type": "error",
     "traceback": [
      "\u001b[0;31m---------------------------------------------------------------------------\u001b[0m",
      "\u001b[0;31mTypeError\u001b[0m                                 Traceback (most recent call last)",
      "\u001b[0;32m<ipython-input-73-a52b03dc3263>\u001b[0m in \u001b[0;36m<module>\u001b[0;34m\u001b[0m\n\u001b[0;32m----> 1\u001b[0;31m \u001b[0minc_search\u001b[0m\u001b[0;34m(\u001b[0m\u001b[0;32mlambda\u001b[0m \u001b[0mx\u001b[0m\u001b[0;34m:\u001b[0m \u001b[0mnp\u001b[0m\u001b[0;34m.\u001b[0m\u001b[0msin\u001b[0m\u001b[0;34m(\u001b[0m\u001b[0;36m10\u001b[0m\u001b[0;34m*\u001b[0m\u001b[0mx\u001b[0m\u001b[0;34m)\u001b[0m\u001b[0;34m+\u001b[0m\u001b[0mnp\u001b[0m\u001b[0;34m.\u001b[0m\u001b[0mcos\u001b[0m\u001b[0;34m(\u001b[0m\u001b[0;36m3\u001b[0m\u001b[0;34m*\u001b[0m\u001b[0mx\u001b[0m\u001b[0;34m)\u001b[0m\u001b[0;34m,\u001b[0m\u001b[0;36m3\u001b[0m\u001b[0;34m,\u001b[0m\u001b[0;36m6\u001b[0m\u001b[0;34m,\u001b[0m\u001b[0;36m50\u001b[0m\u001b[0;34m)\u001b[0m\u001b[0;34m\u001b[0m\u001b[0;34m\u001b[0m\u001b[0m\n\u001b[0m",
      "\u001b[0;32m<ipython-input-72-3fc98355ab6b>\u001b[0m in \u001b[0;36minc_search\u001b[0;34m(func, x_min, x_max, ns)\u001b[0m\n\u001b[1;32m     24\u001b[0m         \u001b[0;32mif\u001b[0m \u001b[0mnp\u001b[0m\u001b[0;34m.\u001b[0m\u001b[0msign\u001b[0m\u001b[0;34m(\u001b[0m\u001b[0mf\u001b[0m\u001b[0;34m[\u001b[0m\u001b[0mi\u001b[0m\u001b[0;34m]\u001b[0m\u001b[0;34m)\u001b[0m \u001b[0;32mis\u001b[0m \u001b[0;32mnot\u001b[0m \u001b[0mnp\u001b[0m\u001b[0;34m.\u001b[0m\u001b[0msign\u001b[0m\u001b[0;34m(\u001b[0m\u001b[0mf\u001b[0m\u001b[0;34m[\u001b[0m\u001b[0mi\u001b[0m\u001b[0;34m+\u001b[0m\u001b[0;36m1\u001b[0m\u001b[0;34m]\u001b[0m\u001b[0;34m)\u001b[0m\u001b[0;34m:\u001b[0m\u001b[0;34m\u001b[0m\u001b[0;34m\u001b[0m\u001b[0m\n\u001b[1;32m     25\u001b[0m             \u001b[0mnb\u001b[0m \u001b[0;34m+=\u001b[0m \u001b[0;36m1\u001b[0m\u001b[0;34m\u001b[0m\u001b[0;34m\u001b[0m\u001b[0m\n\u001b[0;32m---> 26\u001b[0;31m             \u001b[0mxb\u001b[0m\u001b[0;34m[\u001b[0m\u001b[0mi\u001b[0m\u001b[0;34m,\u001b[0m\u001b[0;36m1\u001b[0m\u001b[0;34m]\u001b[0m \u001b[0;34m=\u001b[0m \u001b[0mx\u001b[0m\u001b[0;34m[\u001b[0m\u001b[0mi\u001b[0m\u001b[0;34m]\u001b[0m\u001b[0;34m\u001b[0m\u001b[0;34m\u001b[0m\u001b[0m\n\u001b[0m\u001b[1;32m     27\u001b[0m             \u001b[0mxb\u001b[0m\u001b[0;34m[\u001b[0m\u001b[0mi\u001b[0m\u001b[0;34m,\u001b[0m\u001b[0;36m2\u001b[0m\u001b[0;34m]\u001b[0m \u001b[0;34m=\u001b[0m \u001b[0mx\u001b[0m\u001b[0;34m[\u001b[0m\u001b[0mi\u001b[0m\u001b[0;34m+\u001b[0m\u001b[0;36m1\u001b[0m\u001b[0;34m]\u001b[0m\u001b[0;34m\u001b[0m\u001b[0;34m\u001b[0m\u001b[0m\n\u001b[1;32m     28\u001b[0m     \u001b[0;32mif\u001b[0m \u001b[0;32mnot\u001b[0m \u001b[0mxb\u001b[0m\u001b[0;34m:\u001b[0m\u001b[0;34m\u001b[0m\u001b[0;34m\u001b[0m\u001b[0m\n",
      "\u001b[0;31mTypeError\u001b[0m: list indices must be integers or slices, not tuple"
     ]
    }
   ],
   "source": [
    "inc_search(lambda x: np.sin(10*x)+np.cos(3*x),3,6,50)"
   ]
  }
 ],
 "metadata": {
  "kernelspec": {
   "display_name": "Python 3",
   "language": "python",
   "name": "python3"
  },
  "language_info": {
   "codemirror_mode": {
    "name": "ipython",
    "version": 3
   },
   "file_extension": ".py",
   "mimetype": "text/x-python",
   "name": "python",
   "nbconvert_exporter": "python",
   "pygments_lexer": "ipython3",
   "version": "3.8.3"
  }
 },
 "nbformat": 4,
 "nbformat_minor": 4
}
