{
 "cells": [
  {
   "cell_type": "markdown",
   "metadata": {},
   "source": [
    "## Simple Fixed-Point Interations\n",
    "In numerical analysis, fixed-point iteration is a method of computing fixed points of iterated functions.\n",
    "\n",
    "More specifically, given a function $ f$ defined on the real numbers with real values and given a point $ x_{0}$ in the domain of $f$, the fixed point iteration is\n",
    "\n",
    "   $$  x_{n+1}=f(x_{n}),\\,n=0,1,2,\\dots  x_{n+1}=f(x_{n}),\\,n=0,1,2,\\dots $$\n",
    "\n",
    "which gives rise to the sequence $ x_{0},x_{1},x_{2},\\dots  x_{0},x_{1},x_{2},\\dots$ which is hoped to converge to a point $x$. If $f$ is continuous, then one can prove that the obtained $x $ is a fixed point of  $f$, i.e. $f(x) = x$\n",
    "\n",
    "More generally, the function $f$ can be defined on any metric space with values in that same space. \n",
    "\n",
    "The approximate error for this equation can be determined using the error estimator\n",
    "$$\\epsilon_a = |\\frac{x_{i+1}-x_i}{x_{i+1}}|100\\%$$\n",
    "\n",
    "## Example\n",
    "Use simple fixed-point interation to locate the root of $f(x) = e^{-x} - x$\n",
    "We can separated like this\n",
    "$$f(x) = e^{-x} - x = 0 \\rightarrow e^{-x} = x\\rightarrow e^{-x_i} = x_{i+1}$$\n",
    "\n",
    "Starting with an initial guess of $x_0 = 0$, this iterative equation can be applied to compute:\n",
    "\n",
    "|$i$|$x_i$|$|\\epsilon_a|\\%$|$|\\epsilon_t|\\%$|$\\frac{|\\epsilon_t|_i}{|\\epsilon_t|_{i-1}}$|\n",
    "|----|----|----|----|----|\n",
    "0| 0.0000|----|100.000|----|\n",
    "1| 1.0000|100.00|76.322|0.763|\n",
    "2|0.3679|171.828|35.135|0.460|\n",
    "3|0.6922|46.854|22.050|0.628|\n",
    "4|0.5005|38.309|11.755|0.533|\n",
    "5|0.6062|17.447|6.894|0.586|\n",
    "6|0.5454|11.157|3.835|0.556|\n",
    "7|0.5796|5.903|2.199|0.573|\n",
    "8|0.5601|3.481|1.239|0.564|\n",
    "9|0.5711|1.931|0.705|0.569|\n",
    "10|0.5649|1.109|0.399|0.566|\n",
    "\n",
    "Each interation brings the estimate closer to the true value of the root. $x_r=0.56714329$\n",
    "Notice that the true percent relative error for each iteration  is roughly\n",
    "proportional (for this case, by a factor of about 0.5 to 0.6) to the error from the previous iteration. This property, called linear convergence, is characteristic of fixed-point\n",
    "iteration"
   ]
  },
  {
   "cell_type": "code",
   "execution_count": 1,
   "metadata": {},
   "outputs": [],
   "source": [
    "import numpy as np\n",
    "import scipy as sc"
   ]
  },
  {
   "cell_type": "code",
   "execution_count": 2,
   "metadata": {},
   "outputs": [],
   "source": [
    "def fixed_point_iteration(f, x0, N, epsilon):\n",
    "    interation = 1\n",
    "    while interation <= N:\n",
    "        xk = f(x0)\n",
    "        if abs(xk - x0) < epsilon:\n",
    "            print('Solution is ' + str(xk))\n",
    "            return xk, interation\n",
    "        interation += 1\n",
    "        x0 = xk\n",
    "    raise NameError(\"Number max of interetions exceeded\")"
   ]
  },
  {
   "cell_type": "markdown",
   "metadata": {},
   "source": [
    "We need to express the funciton like this\n",
    "$$f(x) = e^{-x} - x = 0 \\rightarrow e^{-x} = x\\rightarrow e^{-x_i} = x_{i+1}$$"
   ]
  },
  {
   "cell_type": "code",
   "execution_count": 3,
   "metadata": {},
   "outputs": [
    {
     "name": "stdout",
     "output_type": "stream",
     "text": [
      "Solution is 0.567140781458298\n",
      "The Number os Interations is: 21\n",
      "The root is: 0.567140781458298\n"
     ]
    }
   ],
   "source": [
    "# f(x) original\n",
    "def g(x):\n",
    "    return np.exp(-x) - x\n",
    "\n",
    "# f(x) = 0 -> e⁻x\n",
    "def f(x):\n",
    "    return np.exp(-x)\n",
    "x0 = 1\n",
    "N = 100\n",
    "epsilon = 1E-5\n",
    "xr, interation = fixed_point_iteration(f, x0, N, epsilon)\n",
    "print('The Number os Interations is: ' + str(interation))\n",
    "print('The root is: '+ str(xr))"
   ]
  },
  {
   "cell_type": "code",
   "execution_count": 4,
   "metadata": {},
   "outputs": [
    {
     "name": "stdout",
     "output_type": "stream",
     "text": [
      "The root is: 0.5671432904097838\n"
     ]
    }
   ],
   "source": [
    "# Fixed point optimize by SciPy\n",
    "xe = sc.optimize.fixed_point(f, 1)  \n",
    "print('The root is: '+ str(xe))"
   ]
  },
  {
   "cell_type": "code",
   "execution_count": 5,
   "metadata": {},
   "outputs": [
    {
     "name": "stdout",
     "output_type": "stream",
     "text": [
      "The error from our function is: 2.508951485791222e-06\n"
     ]
    }
   ],
   "source": [
    "print('The error from our function is: ' + str(xe - xr))"
   ]
  }
 ],
 "metadata": {
  "kernelspec": {
   "display_name": "Python 3",
   "language": "python",
   "name": "python3"
  },
  "language_info": {
   "codemirror_mode": {
    "name": "ipython",
    "version": 3
   },
   "file_extension": ".py",
   "mimetype": "text/x-python",
   "name": "python",
   "nbconvert_exporter": "python",
   "pygments_lexer": "ipython3",
   "version": "3.8.2"
  }
 },
 "nbformat": 4,
 "nbformat_minor": 4
}
