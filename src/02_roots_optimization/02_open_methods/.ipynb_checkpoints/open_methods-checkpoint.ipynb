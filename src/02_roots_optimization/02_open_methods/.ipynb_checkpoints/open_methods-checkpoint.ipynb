{
 "cells": [
  {
   "cell_type": "markdown",
   "metadata": {},
   "source": [
    " # Open Methods\n",
    " The main differences between \"open\" and \"closed\" methods are that:\n",
    " \n",
    " Closed methods uses a bounded interval $[a,b]$ and usually converges slowly but that convergence is guaranteed ( always finds a root if it exists )\n",
    " \n",
    " Open methods aren't restricted to interval and usally converges quickly but may not find a root, convergence is not guaranteed, they sometimes diverge.\n",
    "\n",
    "![](assets/open.png)\n"
   ]
  },
  {
   "cell_type": "markdown",
   "metadata": {},
   "source": [
    "Graphical depiction of the fundamental difference between the (a) bracketing and (b) and (c)\n",
    "open methods for root location. \n",
    "In (a), which is bisection, the root is constrained within the\n",
    "interval prescribed by $x_l$ and $x_u$ .\n",
    "\n",
    "In contrast, for the open method depicted in (b) and (c), which\n",
    "is Newton-Raphson, a formula is used to project from $x_i$ to $x_{i+1}$ in an iterative fashion.\n",
    "\n",
    "Thus\n",
    "the method can either (b) diverge or (c) converge rapidly, depending on the shape of the\n",
    "function and the value of the initial guess."
   ]
  }
 ],
 "metadata": {
  "kernelspec": {
   "display_name": "Python 3",
   "language": "python",
   "name": "python3"
  },
  "language_info": {
   "codemirror_mode": {
    "name": "ipython",
    "version": 3
   },
   "file_extension": ".py",
   "mimetype": "text/x-python",
   "name": "python",
   "nbconvert_exporter": "python",
   "pygments_lexer": "ipython3",
   "version": "3.8.2"
  }
 },
 "nbformat": 4,
 "nbformat_minor": 4
}
