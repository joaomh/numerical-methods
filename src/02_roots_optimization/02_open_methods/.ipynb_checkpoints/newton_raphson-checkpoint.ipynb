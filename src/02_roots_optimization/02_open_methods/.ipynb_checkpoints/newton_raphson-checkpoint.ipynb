{
 "cells": [
  {
   "cell_type": "markdown",
   "metadata": {},
   "source": [
    "# Newton-Raphson\n",
    "In numerical analysis, Newton's method, also known as the Newton–Raphson method, named after Isaac Newton and Joseph Raphson, is a root-finding algorithm which produces successively better approximations to the roots (or zeroes) of a real-valued function. The most basic version starts with a single-variable function $f$ defined for a real variable $x$, the function's derivative $f'$, and an initial guess $x_0$ for a root of $f$. If the function satisfies sufficient assumptions and the initial guess is close, then\n",
    "$$ x_{i+1} = x_i - \\frac{f(x_i)}{f'(x_i)}$$ \n",
    "\n",
    "The first derivative at $x$ is equivalent to the slope\n",
    "\n",
    "$$ f'(x_i) = \\frac{f(x_i)-0}{x_i-x_{i+1}}$$\n",
    "\n",
    "The function $f$ is shown in blue and the tangent line is in red. We see that $x_i + 1$ is a better approximation than $x_i$ for the root $x$ of the function $f$.\n",
    "\n",
    "![](https://upload.wikimedia.org/wikipedia/commons/e/e0/NewtonIteration_Ani.gif)\n"
   ]
  },
  {
   "cell_type": "markdown",
   "metadata": {},
   "source": [
    "## Example\n",
    "Use the Newton-Raphson method to estimate the root of $f(x) = e^{-x} -x$.\n",
    "\n",
    "With initial guess of $x_0 = 0$\n",
    "\n",
    "The first derivative of the function can be evaluated as\n",
    "$$ f'(x) = -e^{-x} - 1$$\n",
    "$$ x_{i+1} = x_i - \\frac{-e^{-x_i}-x_i}{-e^{-x_i}-1}$$\n",
    "\n",
    "|$i$|$x_i$|$|\\epsilon_t|\\%$\n",
    "|----|----|----|\n",
    "0|0|100|\n",
    "1|0.500000000|11.8|\n",
    "2|0.566311003|0.147|\n",
    "3|0.567143165|0.0000220|\n",
    "4|0.567143290|$10^{-8}$|"
   ]
  },
  {
   "cell_type": "markdown",
   "metadata": {},
   "source": [
    "Newton's method is an extremely powerful technique—in general the convergence is quadratic: as the method converges on the root, the difference between the root and the approximation is squared (the number of accurate digits roughly doubles) at each step. However, there are some difficulties with the method.\n",
    "## Difficulty in calculating derivative of a function\n",
    "\n",
    "Newton's method requires that the derivative can be calculated directly. An analytical expression for the derivative may not be easily obtainable or could be expensive to evaluate. In these situations, it may be appropriate to approximate the derivative by using the slope of a line through two nearby points on the function. Using this approximation would result in something like the secant method whose convergence is slower than that of Newton's method.\n",
    "\n",
    "## Failure of the method to converge to the root\n",
    "It is important to review the proof of quadratic convergence of Newton's method before implementing it. Specifically, one should review the assumptions made in the proof. For situations where the method fails to converge, it is because the assumptions made in this proof are not met. "
   ]
  },
  {
   "cell_type": "markdown",
   "metadata": {},
   "source": [
    "## A Slowly Converging Function with Newton-Raphson\n",
    "Determine the positive root of $f(x) = x^{10} − 1$ using the Newton-\n",
    "Raphson method and an initial guess of $x = 0.5$.\n",
    "\n",
    "The Newton-Raphson formula is:\n",
    "\n",
    "$$ x_{i+1} = x_i - \\frac{x_i^{10}-1}{x_i^{9}}$$\n",
    "\n",
    "|$i$|$x_i$|$|\\epsilon_t|\\%$|\n",
    "|----|----|----|\n",
    "0|0.5|99.032|\n",
    "1|51.65|11.111|\n",
    "2|46.485|11.111|\n",
    "3|41.8365|11.111|\n",
    "4|37.65285|11.111|\n",
    ".|||\n",
    ".|||\n",
    ".|||\n",
    "40|1.002316|2.130|\n",
    "41|1.000024|0.229|\n",
    "42|1|0.002|"
   ]
  },
  {
   "cell_type": "code",
   "execution_count": 1,
   "metadata": {},
   "outputs": [],
   "source": [
    "import numpy as np"
   ]
  },
  {
   "cell_type": "code",
   "execution_count": 2,
   "metadata": {},
   "outputs": [],
   "source": [
    "def newton_raphson(f, df, x0, epsilon, N):\n",
    "    interation = 0\n",
    "    while interation < N:\n",
    "        x1 = x0 - f(x0)/df(x0)\n",
    "        \n",
    "        if abs(x0-x1) < epsilon and abs((x0-x1)/x0) < epsilon:\n",
    "            return x1, interation\n",
    "        x0 = x1\n",
    "        interation += 1\n",
    "        if interation > N:\n",
    "            raise NameError(\"Number max of interetions exceeded\")\n",
    "            \n",
    "    return x1, interation"
   ]
  },
  {
   "cell_type": "code",
   "execution_count": 3,
   "metadata": {},
   "outputs": [],
   "source": [
    "def f(x):\n",
    "    return x**10 - 1\n",
    "\n",
    "def df(x):\n",
    "    return 10*x**9"
   ]
  },
  {
   "cell_type": "code",
   "execution_count": 4,
   "metadata": {},
   "outputs": [
    {
     "name": "stdout",
     "output_type": "stream",
     "text": [
      "The root is: 1.0\n",
      "The number of interations is: 43\n"
     ]
    }
   ],
   "source": [
    "x0 = 0.5 # initial guess\n",
    "epsilon = 1E-10 # tolerence\n",
    "N = 1000 # number max of interations\n",
    "xr, interation = newton_raphson(f, df, x0, epsilon, N)\n",
    "print(\"The root is: \" + str(xr))\n",
    "print(\"The number of interations is: \" + str(interation))"
   ]
  },
  {
   "cell_type": "code",
   "execution_count": 5,
   "metadata": {},
   "outputs": [
    {
     "name": "stdout",
     "output_type": "stream",
     "text": [
      "0,  0.500000000000,  0.990319457890\n",
      "1, 51.650000000000,  0.111111111111\n",
      "2, 46.485000000000,  0.111111111111\n",
      "3, 41.836500000000,  0.111111111111\n",
      "4, 37.652850000000,  0.111111111111\n",
      "5, 33.887565000000,  0.111111111111\n",
      "6, 30.498808500000,  0.111111111111\n",
      "7, 27.448927650000,  0.111111111111\n",
      "8, 24.704034885000,  0.111111111111\n",
      "9, 22.233631396500,  0.111111111111\n",
      "10, 20.010268256850,  0.111111111111\n",
      "11, 18.009241431165,  0.111111111111\n",
      "12, 16.208317288049,  0.111111111111\n",
      "13, 14.587485559246,  0.111111111111\n",
      "14, 13.128737003324,  0.111111111110\n",
      "15, 11.815863303001,  0.111111111109\n",
      "16, 10.634276972723,  0.111111111104\n",
      "17,  9.570849275508,  0.111111111092\n",
      "18,  8.613764348106,  0.111111111056\n",
      "19,  7.752387913678,  0.111111110954\n",
      "20,  6.977149123299,  0.111111110660\n",
      "21,  6.279434213521,  0.111111109816\n",
      "22,  5.651490798757,  0.111111107397\n",
      "23,  5.086341735884,  0.111111100458\n",
      "24,  4.577707606184,  0.111111080559\n",
      "25,  4.119936958850,  0.111111023490\n",
      "26,  3.707943555370,  0.111110859816\n",
      "27,  3.337149954581,  0.111110390406\n",
      "28,  3.003436907255,  0.111109044166\n",
      "29,  2.703098244971,  0.111105183300\n",
      "30,  2.432801399542,  0.111094111391\n",
      "31,  2.189554759224,  0.111062365242\n",
      "32,  1.970685739812,  0.110971382088\n",
      "33,  1.773840237098,  0.110710969671\n",
      "34,  1.597031347970,  0.109968407239\n",
      "35,  1.438807931427,  0.107873539016\n",
      "36,  1.298711342727,  0.102139555697\n",
      "37,  1.178354715620,  0.087695558890\n",
      "38,  1.083349753513,  0.058305316762\n",
      "39,  1.023664661184,  0.021299307296\n",
      "40,  1.002316024177,  0.002292035028\n",
      "41,  1.000023934291,  0.000023931713\n",
      "42,  1.000000002578,  0.000000002578\n",
      "43,  1.000000000000,  0.000000000000\n"
     ]
    }
   ],
   "source": [
    "# Print the table from example\n",
    "real_diff = 1\n",
    "xi = x0\n",
    "counter = 0\n",
    "while real_diff > epsilon and counter < N:\n",
    "    \n",
    "    # Compute relative difference\n",
    "    real_diff = np.abs(f(xi)/df(xi)/xi)\n",
    "    # Compute next xi\n",
    "    x1 = xi - f(xi)/df(xi)\n",
    "    # Print progress data\n",
    "    print('%i, %15.12f, %15.12f' % (counter, xi, abs((xi-x1)/x1)))\n",
    "    \n",
    "    xi = x1\n",
    "    # Increase counter\n",
    "    counter += 1"
   ]
  }
 ],
 "metadata": {
  "kernelspec": {
   "display_name": "Python 3",
   "language": "python",
   "name": "python3"
  },
  "language_info": {
   "codemirror_mode": {
    "name": "ipython",
    "version": 3
   },
   "file_extension": ".py",
   "mimetype": "text/x-python",
   "name": "python",
   "nbconvert_exporter": "python",
   "pygments_lexer": "ipython3",
   "version": "3.8.2"
  }
 },
 "nbformat": 4,
 "nbformat_minor": 4
}
