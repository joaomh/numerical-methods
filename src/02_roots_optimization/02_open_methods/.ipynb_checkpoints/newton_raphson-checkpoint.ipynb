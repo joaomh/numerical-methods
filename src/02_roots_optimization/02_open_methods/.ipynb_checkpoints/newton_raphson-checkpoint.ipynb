{
 "cells": [
  {
   "cell_type": "markdown",
   "metadata": {},
   "source": [
    "# Newton-Raphson\n",
    "In numerical analysis, Newton's method, also known as the Newton–Raphson method, named after Isaac Newton and Joseph Raphson, is a root-finding algorithm which produces successively better approximations to the roots (or zeroes) of a real-valued function. The most basic version starts with a single-variable function $f$ defined for a real variable $x$, the function's derivative $f'$, and an initial guess $x_0$ for a root of $f$. If the function satisfies sufficient assumptions and the initial guess is close, then\n",
    "$$ x_{i+1} = x_i - \\frac{f(x_i)}{f'(x_i)}$$ \n",
    "\n",
    "The first derivative at $x$ is equivalent to the slope\n",
    "\n",
    "$$ f'(x_i) = \\frac{f(x_i)-0}{x_i-x_{i+1}}$$"
   ]
  },
  {
   "cell_type": "markdown",
   "metadata": {},
   "source": [
    "## Example\n",
    "Use the Newton-Raphson method to estimate the root of $f(x) = e^{-x} -x$.\n",
    "\n",
    "With initial guess of $x_0 = 0$\n",
    "\n",
    "The first derivative of the function can be evaluated as\n",
    "$$ f'(x) = -e^{-x} - 1$$\n",
    "$$ x_{i+1} = x_i - \\frac{-e^{-x_i}-x_i}{-e^{-x_i}-1}$$"
   ]
  }
 ],
 "metadata": {
  "kernelspec": {
   "display_name": "Python 3",
   "language": "python",
   "name": "python3"
  },
  "language_info": {
   "codemirror_mode": {
    "name": "ipython",
    "version": 3
   },
   "file_extension": ".py",
   "mimetype": "text/x-python",
   "name": "python",
   "nbconvert_exporter": "python",
   "pygments_lexer": "ipython3",
   "version": "3.8.2"
  }
 },
 "nbformat": 4,
 "nbformat_minor": 4
}
